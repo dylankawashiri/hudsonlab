{
 "cells": [
  {
   "cell_type": "code",
   "execution_count": 5,
   "id": "424e02e7",
   "metadata": {},
   "outputs": [],
   "source": [
    "import serial\n",
    "from serial import Serial\n",
    "import numpy as np\n",
    "from matplotlib import pyplot as plt\n",
    "import serial.tools.list_ports as port_list\n",
    "import seaborn as sns\n",
    "import time\n",
    "import codecs"
   ]
  },
  {
   "cell_type": "markdown",
   "id": "d73e32aa",
   "metadata": {},
   "source": [
    "# Parameters"
   ]
  },
  {
   "cell_type": "code",
   "execution_count": 3,
   "id": "df260f1f",
   "metadata": {},
   "outputs": [],
   "source": [
    "#TPI-1002-A Parameters\n",
    "baud_rate=3000000\n",
    "port='/dev/tty.usbserial-DM00ZI4H' #Port\n",
    "byte_size=8\n",
    "stop_bits=2\n",
    "parity='N'\n",
    "timeout=1\n",
    "count=1"
   ]
  },
  {
   "cell_type": "markdown",
   "id": "07537d94",
   "metadata": {},
   "source": [
    "# Initialization"
   ]
  },
  {
   "cell_type": "code",
   "execution_count": null,
   "id": "65085037",
   "metadata": {},
   "outputs": [],
   "source": [
    "#In order to run any commands, the DDS must be initialized with this code. \n",
    "with serial.Serial(port=port, baudrate=baud_rate, bytesize=byte_size, timeout=timeout, stopbits=stop_bits, parity=parity) as ser:\n",
    "     ser.write(serial.to_bytes([0xAA, 0x55, 0x00, 0x02, 0x08, 0x01, 0xF4])"
   ]
  },
  {
   "cell_type": "markdown",
   "id": "cecb50d6",
   "metadata": {},
   "source": [
    "# Set Power"
   ]
  },
  {
   "cell_type": "code",
   "execution_count": 63,
   "id": "11624d8b",
   "metadata": {},
   "outputs": [],
   "source": [
    "power=1\n",
    "\n",
    "commands=[0x08,0x0A]+list((power).to_bytes(1,\"little\",signed=\"True\"))\n",
    "checksum=0xff-sum(commands,len(commands))\n",
    "if(checksum>-1):\n",
    "    entry=[0xAA,0x55,0x00]+[len(commands)]+commands+[checksum]\n",
    "else:\n",
    "    entry=[0xAA,0x55,0x00]+[len(commands)]+commands+list((checksum).to_bytes(1,\"little\",signed=\"True\"))\n",
    "\n",
    "with serial.Serial(port=port, baudrate=baud_rate, bytesize=byte_size, timeout=timeout, stopbits=stop_bits, parity=parity) as ser:\n",
    "    ser.write(serial.to_bytes(entry))"
   ]
  },
  {
   "cell_type": "markdown",
   "id": "82a359cb",
   "metadata": {},
   "source": [
    "# Read Power"
   ]
  },
  {
   "cell_type": "code",
   "execution_count": null,
   "id": "23795ea5",
   "metadata": {},
   "outputs": [],
   "source": [
    "with serial.Serial(port=port, baudrate=baud_rate, bytesize=byte_size, timeout=timeout, stopbits=stop_bits, parity=parity) as ser:\n",
    "    ser.write(serial.to_bytes([170, 85, 0, 2, 7, 10, 236]))\n",
    "    x=ser.readline(6)\n",
    "    s = ser.readlines()\n",
    "    if(len(s[0])>1):\n",
    "        nums=list(s[0])\n",
    "        nums.pop()\n",
    "        val=int.from_bytes(serial.to_bytes(nums),\"little\",signed=\"True\")\n",
    "        print(\"Power is currently \" + str(val) + \" dBm\")"
   ]
  },
  {
   "cell_type": "markdown",
   "id": "0f85ad18",
   "metadata": {},
   "source": [
    "# RF On"
   ]
  },
  {
   "cell_type": "code",
   "execution_count": null,
   "id": "01bd5338",
   "metadata": {},
   "outputs": [],
   "source": [
    "with serial.Serial(port=port, baudrate=baud_rate, bytesize=byte_size, timeout=timeout, stopbits=stop_bits, parity=parity) as ser:\n",
    "    ser.write(serial.to_bytes([170, 85, 0, 3, 8, 11, 1, 232]))\n",
    "\n",
    "print(\"On\")"
   ]
  },
  {
   "cell_type": "markdown",
   "id": "520ed7b3",
   "metadata": {},
   "source": [
    "# RF Off"
   ]
  },
  {
   "cell_type": "code",
   "execution_count": null,
   "id": "1302414b",
   "metadata": {},
   "outputs": [],
   "source": [
    "with serial.Serial(port=port, baudrate=baud_rate, bytesize=byte_size, timeout=timeout, stopbits=stop_bits, parity=parity) as ser:\n",
    "    ser.write(serial.to_bytes([170, 85, 0, 3, 8, 11, 0, 233]))\n",
    "print(\"Off\")"
   ]
  },
  {
   "cell_type": "markdown",
   "id": "bbce5e0e",
   "metadata": {},
   "source": [
    "# Example Sequence"
   ]
  },
  {
   "cell_type": "code",
   "execution_count": null,
   "id": "1e6fa3d1",
   "metadata": {},
   "outputs": [],
   "source": [
    "#Starting Values\n",
    "start_frequency=85000 #Set to MHz * 1000 (ex. 85000 = 85 MHz)\n",
    "start_power=-20 #dBm - DO NOT EXCEED +2 dBm\n",
    "\n",
    "\n",
    "if(start_power>2):\n",
    "    raise Exception(\"Power is greater than +2 dBm\")\n",
    "\n",
    "    \n",
    "#INPUT\n",
    "commands=[[0x08, 0x01], #Initialize\n",
    "          [0x08,0x09]+list((start_frequency).to_bytes(4,\"little\")), #Set Frequency\n",
    "          [0x08,0x0A]+list((start_power).to_bytes(1,\"little\",signed=\"True\")), #Set Power\n",
    "          [0x08, 0x0B, 1], #RF On\n",
    "          [0x07, 0x0A], #Read Power\n",
    "          [0x07,0x09], #Read Frequency\n",
    "          ['wait', 10], #Wait, int value seconds to wait\n",
    "          [0x08, 0x0B, 0], #RF Off\n",
    "          ['wait', 1] \n",
    "         ]\n",
    "in_commands=[]\n",
    "for i in range(len(commands)):\n",
    "    if(commands[i][0]=='wait'):\n",
    "        in_commands.append(commands[i])\n",
    "    else:\n",
    "        checksum=0xff-sum(commands[i],len(commands[i]))\n",
    "        if(checksum>-1):\n",
    "            entry=[0xAA,0x55,0x00]+[len(commands[i])]+commands[i]+[checksum]\n",
    "        else:\n",
    "            print(checksum)\n",
    "            if(checksum>3):\n",
    "                entry=[0xAA,0x55,0x00]+[len(commands[i])]+commands[i]+list((checksum).to_bytes(4,\"little\",signed=\"True\"))\n",
    "            else:\n",
    "                entry=[0xAA,0x55,0x00]+[len(commands[i])]+commands[i]+list((checksum).to_bytes(1,\"little\",signed=\"True\"))\n",
    "        in_commands.append(entry)\n",
    "\n",
    "\n",
    "#EXECUTION\n",
    "print(\"Frequency is set to \" + str(start_frequency/1000) + \" MHz.\\n\")\n",
    "print(\"Power is set to \" + str(start_power) + \" dBm.\\n\\n\")\n",
    "with serial.Serial(port=port, baudrate=baud_rate, bytesize=byte_size, timeout=timeout, stopbits=stop_bits, parity=parity) as ser:\n",
    "    for i in range(len(commands)):\n",
    "        if(in_commands[i][0]=='wait'):\n",
    "            print(\"Waiting \" + str(in_commands[i][1]) + \" seconds!\\n\") \n",
    "            time.sleep(in_commands[i][1])\n",
    "        else:\n",
    "            ser.write(serial.to_bytes(in_commands[i]))\n",
    "            x=ser.readline(6)\n",
    "            s = ser.readlines()\n",
    "            print(\"Command \"+str(i+1)+\":\")\n",
    "            print(s)\n",
    "            if(len(s[0])>1):\n",
    "                nums=list(s[0])\n",
    "                nums.pop()\n",
    "                val=int.from_bytes(serial.to_bytes(nums),\"little\",signed=\"True\")\n",
    "                if(val>1000):\n",
    "                    print(\"Frequency is currently \" + str(val/1000) + \" MHz\")\n",
    "                else:\n",
    "                    print(\"Power is currently \" + str(val) + \" dBm\")\n",
    "\n",
    "            print(\"\\n\")\n",
    "\n",
    "ser.close()\n",
    "print(\"Run \" + str(count) + \" completed!\")"
   ]
  }
 ],
 "metadata": {
  "kernelspec": {
   "display_name": "Python 3 (ipykernel)",
   "language": "python",
   "name": "python3"
  },
  "language_info": {
   "codemirror_mode": {
    "name": "ipython",
    "version": 3
   },
   "file_extension": ".py",
   "mimetype": "text/x-python",
   "name": "python",
   "nbconvert_exporter": "python",
   "pygments_lexer": "ipython3",
   "version": "3.10.6"
  }
 },
 "nbformat": 4,
 "nbformat_minor": 5
}
